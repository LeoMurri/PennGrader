{
 "cells": [
  {
   "cell_type": "markdown",
   "metadata": {},
   "source": [
    "# PennGrader: Test Cases\n",
    "\n",
    "This notebook will let you quickly create and change test cases for your PennGrader homework!\n",
    "\n",
    "### Step 1: Configuration\n",
    "Set your homeowork SECRET_KEY below. You can create a new homework on our website www.penngrader.com/register"
   ]
  },
  {
   "cell_type": "code",
   "execution_count": 28,
   "metadata": {},
   "outputs": [],
   "source": [
    "SECRET_KEY = 'TEST_SECRET_KEY'"
   ]
  },
  {
   "cell_type": "markdown",
   "metadata": {},
   "source": [
    "### Step 2: Import Libraries\n",
    "In the cell below import all libraries needed for grading."
   ]
  },
  {
   "cell_type": "code",
   "execution_count": 29,
   "metadata": {},
   "outputs": [],
   "source": [
    "import numpy as np"
   ]
  },
  {
   "cell_type": "markdown",
   "metadata": {},
   "source": [
    "### Step 3: Write Test Cases\n",
    "A test case should be a function that takes in a single parameter (`answer`) and returns a tuple `(student score, maximum score)`. For example:\n",
    "\n",
    "```\n",
    "def test_case_0_1(answer):\n",
    "    student_score = 0\n",
    "    max_score     = 2\n",
    "\n",
    "    if answer == 'Correct answer':\n",
    "        student_score = 2\n",
    "    if answer == 'Not so correct answer':\n",
    "        student_score = 1\n",
    "    else:\n",
    "        student_score = 0\n",
    "\n",
    "    return (student_score, max_score)\n",
    "```\n",
    "\n",
    "Note: `answer` can be anything you want, it could be a a list, a function, a dataframe, a puppy...you get the point. The test case function will then need to return a tuple containing the student score and the maximum score for this specific test case. "
   ]
  },
  {
   "cell_type": "code",
   "execution_count": 30,
   "metadata": {},
   "outputs": [],
   "source": [
    "def test_case_0_1(answer):\n",
    "    student_score = 0\n",
    "    max_score     = 2\n",
    "\n",
    "    # FILL IN TEST CASE #\n",
    "    \n",
    "    return (student_score, max_score)"
   ]
  },
  {
   "cell_type": "markdown",
   "metadata": {},
   "source": [
    "### Step 3:  Define Test case ID to function map\n",
    "Below fill in the `test_cases` dictionary to map test case ID to the actual function:"
   ]
  },
  {
   "cell_type": "code",
   "execution_count": 31,
   "metadata": {},
   "outputs": [],
   "source": [
    "test_cases = {\n",
    "        '0.1' : test_case_0_1\n",
    "    }"
   ]
  },
  {
   "cell_type": "markdown",
   "metadata": {},
   "source": [
    "### Step 4:  Upload test cases\n",
    "Run the cells below to upload your test cases!"
   ]
  },
  {
   "cell_type": "code",
   "execution_count": null,
   "metadata": {},
   "outputs": [],
   "source": [
    "!git clone PennGrader\n",
    "!pip3 install dill"
   ]
  },
  {
   "cell_type": "code",
   "execution_count": 27,
   "metadata": {},
   "outputs": [],
   "source": [
    "import json\n",
    "import urllib.request\n",
    "import dill\n",
    "import base64\n",
    "import types\n",
    "    \n",
    "class PennGraderSetup:\n",
    "    \n",
    "    def __init__(self, secret_key):\n",
    "        self.secret_key = secret_key\n",
    "        self.api_endpoint = 'https://7lo9ruk4ke.execute-api.us-east-1.amazonaws.com/default/PennGraderSetup'\n",
    "        \n",
    "    def get_imported_libraries(self):\n",
    "        libs = []\n",
    "        for name, val in globals().items():\n",
    "            if isinstance(val, types.ModuleType):\n",
    "                libs.append(val.__name__)\n",
    "        return libs\n",
    "            \n",
    "    def upload(self, test_cases, libraries):\n",
    "        payload = {'secret_key'   : self.secret_key,\n",
    "                   'test_cases'   : test_cases,\n",
    "                   'test_case_id' : libraries}\n",
    "        params = json.dumps(payload).encode('utf-8')\n",
    "        request = urllib.request.Request(self.api_endpoint, \n",
    "                                         data    = params, \n",
    "                                         headers = {'content-type': 'application/json'})\n",
    "        try:\n",
    "            response = urllib.request.urlopen(request)\n",
    "            response_body = response.read().decode('utf-8')\n",
    "            print('{}'.format(response_body))\n",
    "        except:\n",
    "            print('Error: Grading request could not be completed.')\n",
    "\n",
    "    def serialize(self, obj):\n",
    "        byte_serialized = dill.dumps(obj)\n",
    "        return base64.b64encode(byte_serialized).decode(\"utf-8\")\n",
    "\n",
    "    def deserialize(self, obj):\n",
    "        byte_decoded = base64.b64decode(obj)\n",
    "        return dill.loads(byte_decoded)"
   ]
  },
  {
   "cell_type": "code",
   "execution_count": null,
   "metadata": {},
   "outputs": [],
   "source": [
    "setup = PennGraderSetup(secret_key = SECRET_KEY)"
   ]
  },
  {
   "cell_type": "code",
   "execution_count": null,
   "metadata": {},
   "outputs": [],
   "source": [
    "setup.upload(test_cases = test_cases, libraries = setup.get_imported_libs())"
   ]
  }
 ],
 "metadata": {
  "kernelspec": {
   "display_name": "Python 3",
   "language": "python",
   "name": "python3"
  },
  "language_info": {
   "codemirror_mode": {
    "name": "ipython",
    "version": 3
   },
   "file_extension": ".py",
   "mimetype": "text/x-python",
   "name": "python",
   "nbconvert_exporter": "python",
   "pygments_lexer": "ipython3",
   "version": "3.7.4"
  }
 },
 "nbformat": 4,
 "nbformat_minor": 2
}
