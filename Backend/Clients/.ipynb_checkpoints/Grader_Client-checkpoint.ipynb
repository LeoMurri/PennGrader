{
 "cells": [
  {
   "cell_type": "code",
   "execution_count": null,
   "metadata": {},
   "outputs": [],
   "source": [
    "import json\n",
    "import urllib.request\n",
    "import dill\n",
    "import base64\n",
    "import types\n",
    "from urllib.error import HTTPError\n",
    "import ast\n",
    "import types\n",
    "\n",
    "api_url = 'https://wyv616tp17.execute-api.us-east-1.amazonaws.com/default/Grader'\n",
    "api_key = 'Kd32fl3g3p917iM0zwjiO23Bitj4PO9ga4LektOa'\n",
    "\n",
    "def serialize(obj):\n",
    "    '''Dill serializes Python object into a UTF-8 string'''\n",
    "    byte_serialized = dill.dumps(obj, recurse = True)\n",
    "    return base64.b64encode(byte_serialized).decode(\"utf-8\")\n",
    "\n",
    "class PennGrader:\n",
    "    \n",
    "    def __init__(self, homework_id, student_id):\n",
    "        self.homework_id = homework_id\n",
    "        self.student_id = student_id\n",
    "            \n",
    "    def grade(self, test_case_id):\n",
    "        payload = { \n",
    "            'homework_id' : self.homework_id, \n",
    "            'student_id' : self.secret_key, \n",
    "            'test_case_id' : 'tests',\n",
    "            'answer' : serialize()\n",
    "            })\n",
    "        }\n",
    "        if validate_test_cases(test_cases):\n",
    "            self.send_payload(payload, api_url, api_key)\n",
    "    \n",
    "    def get_total_score(self):\n",
    "        pass\n",
    "    \n",
    "    def send_payload(self, payload, api_endpoint, api_key):\n",
    "        params = json.dumps(payload).encode('utf-8')\n",
    "        headers = {'content-type': 'application/json', 'x-api-key': api_key}\n",
    "        request = urllib.request.Request(api_endpoint, data = params, headers = headers)\n",
    "        try:\n",
    "            response = urllib.request.urlopen(request)\n",
    "            print('{}'.format(response.read().decode('utf-8')))\n",
    "            return True\n",
    "        except HTTPError as error:\n",
    "            print('Error: {}'.format(error.read().decode(\"utf-8\")))\n",
    "            return False  \n"
   ]
  },
  {
   "cell_type": "code",
   "execution_count": 6,
   "metadata": {},
   "outputs": [],
   "source": [
    "import json\n",
    "import urllib.request\n",
    "import dill\n",
    "import base64\n",
    "import types\n",
    "\n",
    "\n",
    "class PennGrader:\n",
    "    \n",
    "    def __init__(self, homework_id, student_id):\n",
    "        self.homework_id = homework_id\n",
    "        self.student_id = student_id\n",
    "        self.api_endpoint = 'https://ohbzc61wqe.execute-api.us-east-1.amazonaws.com/default/PennGrader'\n",
    "    \n",
    "    def grade(self, test_case_id, answer):\n",
    "        payload = {'homework_id'  : self.homework_id,\n",
    "                   'student_id'   : self.student_id,\n",
    "                   'answer'   : self.serialize(answer),\n",
    "                   'test_case_id' : test_case_id}\n",
    "        params = json.dumps(payload).encode('utf-8')\n",
    "        request = urllib.request.Request(self.api_endpoint, \n",
    "                                         data    = params, \n",
    "                                         headers = {'content-type': 'application/json',\n",
    "                                                    'x-api-key':'3DYWzW7p39ZF6hjOdzV44tfv0VMxBQ07AP42wIUg'})\n",
    "        try:\n",
    "            response = urllib.request.urlopen(request)\n",
    "            response_body = response.read().decode('utf-8')\n",
    "            print('{}'.format(response_body))\n",
    "        except:\n",
    "            print('Error: Grading request could not be completed.')\n",
    "            \n",
    "    def serialize(self, obj):\n",
    "        byte_serialized = dill.dumps(obj, recurse = True)\n",
    "        return base64.b64encode(byte_serialized).decode(\"utf-8\")\n",
    "\n",
    "    def deserialize(self, obj):\n",
    "        byte_decoded = base64.b64decode(obj)\n",
    "        return dill.loads(byte_decoded)"
   ]
  },
  {
   "cell_type": "code",
   "execution_count": 11,
   "metadata": {},
   "outputs": [],
   "source": [
    "grader = PennGrader(homework_id = 'test_homework_id', student_id = '35032199')"
   ]
  },
  {
   "cell_type": "code",
   "execution_count": 59,
   "metadata": {},
   "outputs": [
    {
     "name": "stdout",
     "output_type": "stream",
     "text": [
      "You earned 0/2 points.\n",
      "\n",
      "But, don't worry you can re-submit and we will keep only your latest score.\n"
     ]
    }
   ],
   "source": [
    "grader.grade(test_case_id = '0.1', answer = 'test')"
   ]
  },
  {
   "cell_type": "code",
   "execution_count": null,
   "metadata": {},
   "outputs": [],
   "source": []
  },
  {
   "cell_type": "code",
   "execution_count": null,
   "metadata": {},
   "outputs": [],
   "source": []
  }
 ],
 "metadata": {
  "kernelspec": {
   "display_name": "Python 3",
   "language": "python",
   "name": "python3"
  },
  "language_info": {
   "codemirror_mode": {
    "name": "ipython",
    "version": 3
   },
   "file_extension": ".py",
   "mimetype": "text/x-python",
   "name": "python",
   "nbconvert_exporter": "python",
   "pygments_lexer": "ipython3",
   "version": "3.7.4"
  }
 },
 "nbformat": 4,
 "nbformat_minor": 2
}
