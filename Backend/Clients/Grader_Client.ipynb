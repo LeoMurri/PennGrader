{
 "cells": [
  {
   "cell_type": "code",
   "execution_count": 25,
   "metadata": {},
   "outputs": [],
   "source": [
    "import json\n",
    "import urllib.request\n",
    "import dill\n",
    "import base64\n",
    "import types\n",
    "from urllib.error import HTTPError\n",
    "import ast\n",
    "import types\n",
    "\n",
    "api_url = 'https://wyv616tp17.execute-api.us-east-1.amazonaws.com/default/Grader'\n",
    "api_key = 'Kd32fl3g3p917iM0zwjiO23Bitj4PO9ga4LektOa'\n",
    "\n",
    "def serialize(obj):\n",
    "    '''Dill serializes Python object into a UTF-8 string'''\n",
    "    byte_serialized = dill.dumps(obj, recurse = True)\n",
    "    return base64.b64encode(byte_serialized).decode(\"utf-8\")\n",
    "\n",
    "class PennGrader:\n",
    "    \n",
    "    def __init__(self, homework_id, student_id):\n",
    "        self.homework_id = homework_id\n",
    "        self.student_id = student_id\n",
    "            \n",
    "    def grade(self, test_case_id, answer):\n",
    "        payload = { \n",
    "            'homework_id' : self.homework_id, \n",
    "            'student_id' : self.student_id, \n",
    "            'test_case_id' : test_case_id,\n",
    "            'answer' : serialize(answer)\n",
    "        }\n",
    "        self.send_payload(payload, api_url, api_key)\n",
    "    \n",
    "    def get_total_score(self):\n",
    "        pass\n",
    "    \n",
    "    def send_payload(self, payload, api_endpoint, api_key):\n",
    "        params = json.dumps(payload).encode('utf-8')\n",
    "        headers = {'content-type': 'application/json', 'x-api-key': api_key}\n",
    "        request = urllib.request.Request(api_endpoint, data = params, headers = headers)\n",
    "        try:\n",
    "            response = urllib.request.urlopen(request)\n",
    "            print('{}'.format(response.read().decode('utf-8')))\n",
    "            return True\n",
    "        except HTTPError as error:\n",
    "            print('Error: {}'.format(error.read().decode(\"utf-8\")))\n",
    "            return False  \n"
   ]
  },
  {
   "cell_type": "code",
   "execution_count": 26,
   "metadata": {},
   "outputs": [],
   "source": [
    "grader = PennGrader(homework_id = 'test_homework_id', student_id = '35032199')"
   ]
  },
  {
   "cell_type": "code",
   "execution_count": 35,
   "metadata": {},
   "outputs": [
    {
     "name": "stdout",
     "output_type": "stream",
     "text": [
      "Correct! You earned 2/2 points. You are a star!\n",
      "\n",
      "Your submission has been successfully recorded in the gradebook.\n"
     ]
    }
   ],
   "source": [
    "grader.grade(test_case_id = '0.1', answer = 'Correct answer')"
   ]
  },
  {
   "cell_type": "code",
   "execution_count": null,
   "metadata": {},
   "outputs": [],
   "source": []
  },
  {
   "cell_type": "code",
   "execution_count": null,
   "metadata": {},
   "outputs": [],
   "source": []
  },
  {
   "cell_type": "code",
   "execution_count": null,
   "metadata": {},
   "outputs": [],
   "source": []
  }
 ],
 "metadata": {
  "kernelspec": {
   "display_name": "Python 3",
   "language": "python",
   "name": "python3"
  },
  "language_info": {
   "codemirror_mode": {
    "name": "ipython",
    "version": 3
   },
   "file_extension": ".py",
   "mimetype": "text/x-python",
   "name": "python",
   "nbconvert_exporter": "python",
   "pygments_lexer": "ipython3",
   "version": "3.7.4"
  }
 },
 "nbformat": 4,
 "nbformat_minor": 2
}
