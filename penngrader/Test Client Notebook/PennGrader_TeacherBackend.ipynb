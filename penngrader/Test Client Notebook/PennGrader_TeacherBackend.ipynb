{
 "cells": [
  {
   "cell_type": "code",
   "execution_count": 1,
   "metadata": {},
   "outputs": [],
   "source": [
    "%%capture\n",
    "!pip3 install penngrader --upgrade"
   ]
  },
  {
   "cell_type": "code",
   "execution_count": 6,
   "metadata": {},
   "outputs": [],
   "source": [
    "from penngrader.backend import *"
   ]
  },
  {
   "cell_type": "markdown",
   "metadata": {},
   "source": [
    "# PennGrader: Teacher Backend\n",
    "\n",
    "Follow this notebook's insutructions to write your homework's test cases and see student's grades.\n",
    "### Configuration\n",
    "Edit the following variables and run the following cell to initialize the teacher backend.\n",
    "\n",
    "`SECRET_KEY`: The secret key you obtained when you created your course \n",
    "\n",
    "`HOMEWORK_NUMBER`: Homework number you are writing tests for. \n",
    "\n",
    "(Please do not edit the metadata of the current homeowork without changning the SECRET_KEY, this is just a template/demo)"
   ]
  },
  {
   "cell_type": "code",
   "execution_count": 15,
   "metadata": {},
   "outputs": [],
   "source": [
    "SECRET_KEY      = 'E9EE7A6F1FBC4E769FCCF06C90621C8B'\n",
    "HOMEWORK_NUMBER = 1"
   ]
  },
  {
   "cell_type": "code",
   "execution_count": 8,
   "metadata": {
    "scrolled": false
   },
   "outputs": [
    {
     "name": "stdout",
     "output_type": "stream",
     "text": [
      "Success! Teacher backend initialized.\n",
      "\n",
      "Homework ID: CIS545_Spring_2019_HW1\n"
     ]
    }
   ],
   "source": [
    "backend = PennGraderBackend(secret_key = SECRET_KEY, homework_number = HOMEWORK_NUMBER)"
   ]
  },
  {
   "cell_type": "markdown",
   "metadata": {},
   "source": [
    "### Metadata\n",
    "Edit the following metadata variables to your preference:\n",
    "\n",
    "`TOTAL_SCORE`: Total number of points this homework is worth. **Note:** Make sure all test cases weigths add up to this number.\n",
    "\n",
    "`DEADLINE`:... you guessed it, the homework deadline. (_Format:_ `'YYYY-MM-DD HH:MM A'`)\n",
    "\n",
    "`MAX_DAILY_TEST_CASE_SUBMISSIONS`: Maximum number of daily submissions per test case per student."
   ]
  },
  {
   "cell_type": "code",
   "execution_count": 9,
   "metadata": {},
   "outputs": [],
   "source": [
    "TOTAL_SCORE = 20\n",
    "DEADLINE = '2019-12-05 11:59 PM'\n",
    "MAX_DAILY_TEST_CASE_SUBMISSIONS = 100"
   ]
  },
  {
   "cell_type": "code",
   "execution_count": 10,
   "metadata": {},
   "outputs": [
    {
     "name": "stdout",
     "output_type": "stream",
     "text": [
      "Success! Metadata updated.\n",
      "\n",
      "Total HW Points: 20\n",
      "Deadline: 2019-12-05 23:59:00\n",
      "Max daily submissions per test case: 100\n",
      "\n"
     ]
    }
   ],
   "source": [
    "backend.update_metadata(DEADLINE, TOTAL_SCORE, MAX_DAILY_TEST_CASE_SUBMISSIONS)"
   ]
  },
  {
   "cell_type": "markdown",
   "metadata": {},
   "source": [
    "### Test Cases\n",
    "Define a test case function for each question.\n",
    "\n",
    "A test case function takes in a single input containing the student's answer and returns a tuple `(student score:int, maximum score:int)`. See example below:\n"
   ]
  },
  {
   "cell_type": "code",
   "execution_count": 11,
   "metadata": {},
   "outputs": [],
   "source": [
    "import numpy as np\n",
    "import pandas as pd\n",
    "\n",
    "def test_case_1(answer): \n",
    "    # [answer] in this test case is a function that adds 2 numbers\n",
    "    \n",
    "    # First initalize the max_score score of this test case. \n",
    "    max_score     = 5\n",
    "    student_score = 0\n",
    "\n",
    "    # Since answer is a function that takes two parameters \n",
    "    # answer(1,2) should return 3 if implemented correctly.\n",
    "    if answer(1,2) == 3:\n",
    "        student_score += 3\n",
    "    if answer(2,2) == 4:\n",
    "        student_score += 2\n",
    "    \n",
    "    # Returning a (student_score, max_score) tuple of ints\n",
    "    return (student_score, max_score)\n",
    "\n",
    "def test_case_2(answer): \n",
    "    max_score     = 10\n",
    "    student_score = 0\n",
    "    \n",
    "    students_df = answer \n",
    "    \n",
    "    students_df = students_df.sort_values('first_name', ascending = False)\n",
    "    if students_df.iloc[0].first_name == 'Leonardo':\n",
    "        student_score += 10\n",
    "        \n",
    "    return (student_score, max_score)"
   ]
  },
  {
   "cell_type": "markdown",
   "metadata": {},
   "source": [
    "Run the following cell to update the test cases."
   ]
  },
  {
   "cell_type": "code",
   "execution_count": 12,
   "metadata": {
    "scrolled": true
   },
   "outputs": [
    {
     "name": "stdout",
     "output_type": "stream",
     "text": [
      "Success: Test cases updated successfully.\n"
     ]
    }
   ],
   "source": [
    "backend.update_test_cases()"
   ]
  },
  {
   "cell_type": "markdown",
   "metadata": {},
   "source": [
    " \n",
    " \n",
    "\n",
    " ### View Grades\n",
    "\n",
    "Run the following cells to view student's scores.\n",
    " \n",
    " \n",
    "     "
   ]
  },
  {
   "cell_type": "code",
   "execution_count": 13,
   "metadata": {},
   "outputs": [
    {
     "data": {
      "text/html": [
       "<div>\n",
       "<style scoped>\n",
       "    .dataframe tbody tr th:only-of-type {\n",
       "        vertical-align: middle;\n",
       "    }\n",
       "\n",
       "    .dataframe tbody tr th {\n",
       "        vertical-align: top;\n",
       "    }\n",
       "\n",
       "    .dataframe thead th {\n",
       "        text-align: right;\n",
       "    }\n",
       "</style>\n",
       "<table border=\"1\" class=\"dataframe\">\n",
       "  <thead>\n",
       "    <tr style=\"text-align: right;\">\n",
       "      <th></th>\n",
       "      <th>student_id</th>\n",
       "      <th>student_score</th>\n",
       "      <th>latest_submission</th>\n",
       "      <th>deadline</th>\n",
       "      <th>days_late</th>\n",
       "    </tr>\n",
       "  </thead>\n",
       "  <tbody>\n",
       "    <tr>\n",
       "      <td>0</td>\n",
       "      <td>99999999</td>\n",
       "      <td>20</td>\n",
       "      <td>2019-12-18 17:58:00.000005</td>\n",
       "      <td>2019-12-05 23:59:00</td>\n",
       "      <td>13</td>\n",
       "    </tr>\n",
       "  </tbody>\n",
       "</table>\n",
       "</div>"
      ],
      "text/plain": [
       "  student_id  student_score          latest_submission            deadline  \\\n",
       "0   99999999             20 2019-12-18 17:58:00.000005 2019-12-05 23:59:00   \n",
       "\n",
       "   days_late  \n",
       "0         13  "
      ]
     },
     "execution_count": 13,
     "metadata": {},
     "output_type": "execute_result"
    }
   ],
   "source": [
    "grades_df = backend.get_grades()\n",
    "grades_df"
   ]
  },
  {
   "cell_type": "markdown",
   "metadata": {},
   "source": [
    "Run the following cells to view the raw student's scores for each test case."
   ]
  },
  {
   "cell_type": "code",
   "execution_count": 14,
   "metadata": {
    "scrolled": true
   },
   "outputs": [
    {
     "data": {
      "text/html": [
       "<div>\n",
       "<style scoped>\n",
       "    .dataframe tbody tr th:only-of-type {\n",
       "        vertical-align: middle;\n",
       "    }\n",
       "\n",
       "    .dataframe tbody tr th {\n",
       "        vertical-align: top;\n",
       "    }\n",
       "\n",
       "    .dataframe thead th {\n",
       "        text-align: right;\n",
       "    }\n",
       "</style>\n",
       "<table border=\"1\" class=\"dataframe\">\n",
       "  <thead>\n",
       "    <tr style=\"text-align: right;\">\n",
       "      <th></th>\n",
       "      <th>max_score</th>\n",
       "      <th>homework_id</th>\n",
       "      <th>student_submission_id</th>\n",
       "      <th>student_score</th>\n",
       "      <th>timestamp</th>\n",
       "    </tr>\n",
       "  </thead>\n",
       "  <tbody>\n",
       "    <tr>\n",
       "      <td>0</td>\n",
       "      <td>5</td>\n",
       "      <td>CIS545_Spring_2019_HW1</td>\n",
       "      <td>99999999_test_case_1</td>\n",
       "      <td>5</td>\n",
       "      <td>2019-12-18 22:57</td>\n",
       "    </tr>\n",
       "    <tr>\n",
       "      <td>1</td>\n",
       "      <td>5</td>\n",
       "      <td>CIS545_Spring_2019_HW1</td>\n",
       "      <td>99999999_test_case_2</td>\n",
       "      <td>5</td>\n",
       "      <td>2019-12-18 22:58</td>\n",
       "    </tr>\n",
       "    <tr>\n",
       "      <td>2</td>\n",
       "      <td>10</td>\n",
       "      <td>CIS545_Spring_2019_HW1</td>\n",
       "      <td>99999999_test_case_3</td>\n",
       "      <td>10</td>\n",
       "      <td>2019-12-18 22:58</td>\n",
       "    </tr>\n",
       "  </tbody>\n",
       "</table>\n",
       "</div>"
      ],
      "text/plain": [
       "  max_score             homework_id student_submission_id student_score  \\\n",
       "0         5  CIS545_Spring_2019_HW1  99999999_test_case_1             5   \n",
       "1         5  CIS545_Spring_2019_HW1  99999999_test_case_2             5   \n",
       "2        10  CIS545_Spring_2019_HW1  99999999_test_case_3            10   \n",
       "\n",
       "          timestamp  \n",
       "0  2019-12-18 22:57  \n",
       "1  2019-12-18 22:58  \n",
       "2  2019-12-18 22:58  "
      ]
     },
     "execution_count": 14,
     "metadata": {},
     "output_type": "execute_result"
    }
   ],
   "source": [
    "raw_grades_df = backend.get_raw_grades() # Note: timestamp is in UTC\n",
    "raw_grades_df"
   ]
  },
  {
   "cell_type": "code",
   "execution_count": null,
   "metadata": {},
   "outputs": [],
   "source": []
  }
 ],
 "metadata": {
  "kernelspec": {
   "display_name": "Python 3",
   "language": "python",
   "name": "python3"
  },
  "language_info": {
   "codemirror_mode": {
    "name": "ipython",
    "version": 3
   },
   "file_extension": ".py",
   "mimetype": "text/x-python",
   "name": "python",
   "nbconvert_exporter": "python",
   "pygments_lexer": "ipython3",
   "version": "3.7.4"
  }
 },
 "nbformat": 4,
 "nbformat_minor": 2
}
