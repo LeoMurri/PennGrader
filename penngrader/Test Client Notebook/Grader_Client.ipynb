{
 "cells": [
  {
   "cell_type": "code",
   "execution_count": 1,
   "metadata": {},
   "outputs": [],
   "source": [
    "import json\n",
    "import urllib.request\n",
    "import dill\n",
    "import base64\n",
    "import types\n",
    "from urllib.error import HTTPError\n",
    "import ast\n",
    "import types\n",
    "\n",
    "# Lambda endpoints\n",
    "grader_api_url = 'https://wyv616tp17.execute-api.us-east-1.amazonaws.com/default/Grader'\n",
    "grader_api_key = 'Kd32fl3g3p917iM0zwjiO23Bitj4PO9ga4LektOa'\n",
    "grades_api_url = 'https://1rwoprdby6.execute-api.us-east-1.amazonaws.com/default/Grades'\n",
    "grades_api_key = 'lY1O5NDRML9zEyRvWhf0c1GeEYFe3BE710Olbh3R'\n",
    "\n",
    "# Request types\n",
    "STUDENT_GRADE_REQUEST = 'STUDENT_GRADE'\n",
    "\n",
    "\n",
    "class PennGrader:\n",
    "    \n",
    "    def __init__(self, homework_id, student_id):\n",
    "        if '_' in str(student_id):\n",
    "            raise Exception(\"Student ID cannot contain '_'\")\n",
    "        self.homework_id = homework_id\n",
    "        self.student_id = str(student_id)\n",
    "\n",
    "        \n",
    "    def grade(self, test_case_id, answer):\n",
    "        request = { \n",
    "            'homework_id' : self.homework_id, \n",
    "            'student_id' : self.student_id, \n",
    "            'test_case_id' : test_case_id,\n",
    "            'answer' : self._serialize(answer)\n",
    "        }\n",
    "        response = self._send_request(request, grader_api_url, grader_api_key)\n",
    "        print(response)\n",
    "    \n",
    "    \n",
    "    def view_score(self):\n",
    "        request = { \n",
    "            'homework_id' : self.homework_id, \n",
    "            'student_id' : self.student_id, \n",
    "            'request_type' : STUDENT_GRADE_REQUEST,\n",
    "        }\n",
    "        response = self._send_request(request, grades_api_url, grades_api_key)\n",
    "        if 'Error' in response:\n",
    "            print(response)\n",
    "            return None\n",
    "        else:\n",
    "            grades, deadline, max_daily_submissions, max_score = self._deserialize(response)\n",
    "            grades_df = pd.DataFrame(grades)\n",
    "            \n",
    "            # Extract student ID from [student_submission_id]\n",
    "            grades_df['student_id'] = grades_df['student_submission_id'].apply(lambda x: str(x).split('_')[0])\n",
    "            grades_df['test_case_id'] = grades_df['student_submission_id'].apply(lambda x: '_'.join(str(x).split('_')[1:]))\n",
    "\n",
    "            # Convert to correct types\n",
    "            grades_df['student_score'] = grades_df['student_score'].astype(int)\n",
    "            \n",
    "            display(grades_df[['student_id', 'test_case_id', 'student_score','max_score']])\n",
    "            print('Total Score: {}/{}'.format(grades_df['student_score'].sum(), max_score))\n",
    "            print('Deadline: {}'.format(deadline))\n",
    "            print('Max daily submission per test case: {}'.format(max_daily_submissions))\n",
    "            print('\\nRemember: If you run any test case after the deadline your homework will be marked late.')\n",
    "            print('\\nAlso, make sure your student ID is correct.')\n",
    "            print('\\nAlso, you are a star!')\n",
    "\n",
    "    \n",
    "    def _send_request(self, request, api_url, api_key):\n",
    "        params = json.dumps(request).encode('utf-8')\n",
    "        headers = {'content-type': 'application/json', 'x-api-key': api_key}\n",
    "        request = urllib.request.Request(api_url, data=params, headers=headers)\n",
    "        try:\n",
    "            response = urllib.request.urlopen(request)\n",
    "            return '{}'.format(response.read().decode('utf-8'))\n",
    "        except HTTPError as error:\n",
    "            return 'Error: {}'.format(error.read().decode(\"utf-8\")) \n",
    "        \n",
    "\n",
    "    def _serialize(self, obj):\n",
    "        byte_serialized = dill.dumps(obj, recurse = True)\n",
    "        return base64.b64encode(byte_serialized).decode(\"utf-8\")\n",
    "    \n",
    "    def _deserialize(self, obj):\n",
    "        byte_decoded = base64.b64decode(obj)\n",
    "        return dill.loads(byte_decoded)"
   ]
  },
  {
   "cell_type": "markdown",
   "metadata": {},
   "source": [
    "## Autograder Setup\n",
    "Enter your 8-digit PennID below:"
   ]
  },
  {
   "cell_type": "code",
   "execution_count": 2,
   "metadata": {},
   "outputs": [],
   "source": [
    "STUDENT_ID = 99999999"
   ]
  },
  {
   "cell_type": "markdown",
   "metadata": {},
   "source": [
    "Run the following cell to initialize the autograder.\n",
    "\n",
    "**NOTE:** Remember we store your submissions and check against other student's submissions... so, not that you would, but no cheating."
   ]
  },
  {
   "cell_type": "code",
   "execution_count": 3,
   "metadata": {},
   "outputs": [],
   "source": [
    "grader = PennGrader(homework_id = 'CIS545_Spring_2019_HW1', student_id = STUDENT_ID)"
   ]
  },
  {
   "cell_type": "markdown",
   "metadata": {},
   "source": [
    "## Question 1: Write an addition function!\n",
    "Fill in the function body of `addition_function` that takes in two numbers and returns their sum."
   ]
  },
  {
   "cell_type": "code",
   "execution_count": 20,
   "metadata": {},
   "outputs": [],
   "source": [
    "def addition_function(x,y):\n",
    "    return x + y"
   ]
  },
  {
   "cell_type": "markdown",
   "metadata": {},
   "source": [
    "Run the following cell to grade this question."
   ]
  },
  {
   "cell_type": "code",
   "execution_count": 21,
   "metadata": {},
   "outputs": [
    {
     "name": "stdout",
     "output_type": "stream",
     "text": [
      "Correct! You earned 5/5 points. You are a star!\n",
      "\n",
      "Your submission has been successfully recorded in the gradebook.\n"
     ]
    }
   ],
   "source": [
    "# Autograder Cell: Test Case #1\n",
    "grader.grade(test_case_id = 'test_case_1', answer = addition_function)"
   ]
  },
  {
   "cell_type": "markdown",
   "metadata": {},
   "source": [
    " "
   ]
  },
  {
   "cell_type": "markdown",
   "metadata": {},
   "source": [
    " "
   ]
  },
  {
   "cell_type": "markdown",
   "metadata": {},
   "source": [
    "## Question 2:  Now write a Class!\n",
    "Add two class functions: `add_course` and `remove_course` that both take in a string representing a course ID."
   ]
  },
  {
   "cell_type": "code",
   "execution_count": 4,
   "metadata": {},
   "outputs": [],
   "source": [
    "class Student:\n",
    "    def __init__(self, name = 'John', email = 'john@email', courses = []):\n",
    "        self.name = name\n",
    "        self.email = email\n",
    "        self.courses = courses \n",
    "\n",
    "    def get_coures(self):\n",
    "        return self.courses \n",
    "\n",
    "    def add_course(self, course):\n",
    "        self.courses.append(course)\n",
    "    \n",
    "    def remove_course(self, course):\n",
    "        self.courses.remove(course)"
   ]
  },
  {
   "cell_type": "code",
   "execution_count": 5,
   "metadata": {},
   "outputs": [
    {
     "name": "stdout",
     "output_type": "stream",
     "text": [
      "Correct! You earned 5/5 points. You are a star!\n",
      "\n",
      "Your submission has been successfully recorded in the gradebook.\n"
     ]
    }
   ],
   "source": [
    "# Autograder cell: Test case #2\n",
    "grader.grade(test_case_id = 'test_case_2', answer = Student)"
   ]
  },
  {
   "cell_type": "markdown",
   "metadata": {},
   "source": [
    "## Question 3:  Finally, let's do some Pandas stuff!\n",
    "\n",
    "Run the following cell to load the dataset..."
   ]
  },
  {
   "cell_type": "code",
   "execution_count": null,
   "metadata": {},
   "outputs": [],
   "source": [
    "import pandas as pd\n",
    "\n",
    "students_df = pd.DataFrame([['Leonardo_Murri',100],['Akshay_Grewal',65]], columns = ['first_last_name','grade'])\n",
    "students_df"
   ]
  },
  {
   "cell_type": "markdown",
   "metadata": {},
   "source": [
    "Use `.apply(...)` to keep only the last name in the `first_last_name` column."
   ]
  },
  {
   "cell_type": "code",
   "execution_count": null,
   "metadata": {},
   "outputs": [],
   "source": [
    "students_df['first_last_name'] = students_df['first_last_name'].apply(lambda x: x.split('_')[0])\n",
    "students_df"
   ]
  },
  {
   "cell_type": "markdown",
   "metadata": {},
   "source": [
    "Now, rename the `first_last_name` column to `first_name`. Make sure your final dataframe is called `student_df`."
   ]
  },
  {
   "cell_type": "code",
   "execution_count": null,
   "metadata": {},
   "outputs": [],
   "source": [
    "students_df = students_df.rename(columns = {'first_last_name':'first_name'})\n",
    "students_df"
   ]
  },
  {
   "cell_type": "markdown",
   "metadata": {},
   "source": [
    "Run the following cell to grade this question."
   ]
  },
  {
   "cell_type": "code",
   "execution_count": null,
   "metadata": {
    "scrolled": true
   },
   "outputs": [],
   "source": [
    "# Autograder cell: Test case #3\n",
    "grader.grade(test_case_id = 'test_case_3', answer = students_df)"
   ]
  },
  {
   "cell_type": "markdown",
   "metadata": {},
   "source": [
    "## View your score!\n",
    "You made it this far, run the following cell to double check we stored all your scores correctly."
   ]
  },
  {
   "cell_type": "code",
   "execution_count": null,
   "metadata": {
    "scrolled": true
   },
   "outputs": [],
   "source": [
    "grader.view_score() "
   ]
  },
  {
   "cell_type": "code",
   "execution_count": null,
   "metadata": {},
   "outputs": [],
   "source": []
  }
 ],
 "metadata": {
  "kernelspec": {
   "display_name": "Python 3",
   "language": "python",
   "name": "python3"
  },
  "language_info": {
   "codemirror_mode": {
    "name": "ipython",
    "version": 3
   },
   "file_extension": ".py",
   "mimetype": "text/x-python",
   "name": "python",
   "nbconvert_exporter": "python",
   "pygments_lexer": "ipython3",
   "version": "3.7.4"
  }
 },
 "nbformat": 4,
 "nbformat_minor": 2
}
